{
 "cells": [
  {
   "cell_type": "markdown",
   "metadata": {},
   "source": [
    "# Web Scraping"
   ]
  },
  {
   "cell_type": "markdown",
   "metadata": {},
   "source": [
    "## Introduction"
   ]
  },
  {
   "cell_type": "code",
   "execution_count": 1,
   "metadata": {},
   "outputs": [],
   "source": [
    "import requests"
   ]
  },
  {
   "cell_type": "code",
   "execution_count": 2,
   "metadata": {},
   "outputs": [
    {
     "name": "stdout",
     "output_type": "stream",
     "text": [
      "b'<html>\\r\\n  <head>\\r\\n      <title> Un exemple de page HTML </title>\\r\\n  </head>\\r\\n\\r\\n  <body>\\r\\n      <p>Un simple paragraphe</p>\\r\\n  </body>\\r\\n</html>'\n"
     ]
    }
   ],
   "source": [
    "response = requests.get(\"https://raw.githubusercontent.com/codelikerod/web-scraping/master/exemple1.html\")\n",
    "content = response.content\n",
    "print(content)"
   ]
  },
  {
   "cell_type": "markdown",
   "metadata": {},
   "source": [
    "# Récupérer des éléments d'une page"
   ]
  },
  {
   "cell_type": "code",
   "execution_count": 3,
   "metadata": {},
   "outputs": [],
   "source": [
    "# librairie BeautifulSoup du package bs4"
   ]
  },
  {
   "cell_type": "code",
   "execution_count": 4,
   "metadata": {},
   "outputs": [],
   "source": [
    "from bs4 import BeautifulSoup"
   ]
  },
  {
   "cell_type": "code",
   "execution_count": 8,
   "metadata": {},
   "outputs": [
    {
     "name": "stdout",
     "output_type": "stream",
     "text": [
      "Un simple paragraphe\n"
     ]
    }
   ],
   "source": [
    "# on applique BeautifulSoup pour analyser le contenu précédemment téléchargé\n",
    "parser = BeautifulSoup(content, 'html.parser')\n",
    "\n",
    "# obtenir le tag body du document HTML\n",
    "body = parser.body\n",
    "\n",
    "# obtenir le tag p du body\n",
    "p = body.p\n",
    "\n",
    "# afficher seulement le text -- on utilise l'attribut .text\n",
    "print(p.text)"
   ]
  },
  {
   "cell_type": "markdown",
   "metadata": {},
   "source": [
    "# Utiliser Find All"
   ]
  },
  {
   "cell_type": "markdown",
   "metadata": {},
   "source": [
    "Le but de cette méthode est de récupérer tous les éléments d'une balise et de les retourner dans une liste, pour ensuite pouvoir en faire le tri."
   ]
  },
  {
   "cell_type": "code",
   "execution_count": 15,
   "metadata": {},
   "outputs": [
    {
     "name": "stdout",
     "output_type": "stream",
     "text": [
      "Un simple paragraphe\n"
     ]
    }
   ],
   "source": [
    "parser = BeautifulSoup(content, 'html.parser')\n",
    "\n",
    "# obtenir tous les éléments de la balise body\n",
    "body = parser.find_all(\"body\")\n",
    "\n",
    "# on récupère les éléments de la balise p dans la liste body\n",
    "p = body[0].find_all(\"p\")  # body[0] car on récupère le premier élement de la liste\n",
    "\n",
    "# obtenir le texte\n",
    "print(p[0].text)"
   ]
  },
  {
   "cell_type": "markdown",
   "metadata": {},
   "source": [
    "# Eléments correspondant aux IDs"
   ]
  },
  {
   "cell_type": "code",
   "execution_count": 18,
   "metadata": {},
   "outputs": [
    {
     "name": "stdout",
     "output_type": "stream",
     "text": [
      "1er paragraphe\n"
     ]
    }
   ],
   "source": [
    "# Télécharge la page\n",
    "response = requests.get(\"https://raw.githubusercontent.com/codelikerod/web-scraping/master/exemple2.html\")\n",
    "content = response.content\n",
    "parser = BeautifulSoup(content, 'html.parser')\n",
    "\n",
    "# Récupérer l'ID souhaité\n",
    "first_paragraph = parser.find_all(\"p\", id=\"first\")[0] #on ajoute id=\"first\"\n",
    "print(first_paragraph.text)"
   ]
  },
  {
   "cell_type": "code",
   "execution_count": 20,
   "metadata": {},
   "outputs": [
    {
     "name": "stdout",
     "output_type": "stream",
     "text": [
      "2nd paragraphe\n"
     ]
    }
   ],
   "source": [
    "second_paragraph = parser.find_all(\"p\", id=\"second\")[0] #on ajoute id=\"second\"\n",
    "print(second_paragraph.text)"
   ]
  },
  {
   "cell_type": "markdown",
   "metadata": {},
   "source": [
    "# Les classes"
   ]
  },
  {
   "cell_type": "code",
   "execution_count": 22,
   "metadata": {},
   "outputs": [
    {
     "name": "stdout",
     "output_type": "stream",
     "text": [
      "1er paragraphe classe 1\n"
     ]
    }
   ],
   "source": [
    "# Télécharge le site web\n",
    "response = requests.get(\"https://raw.githubusercontent.com/codelikerod/web-scraping/master/exemple3.html\")\n",
    "content = response.content\n",
    "parser = BeautifulSoup(content, 'html.parser')\n",
    "\n",
    "# obtenir le premier paragraphe de la classe 1\n",
    "# trouver tous les paragraphes de la classe 1 et récuprérer le premier élément\n",
    "first_class1_paragraph = parser.find_all(\"p\", class_=\"class1\")[0]\n",
    "print(first_class1_paragraph.text)"
   ]
  },
  {
   "cell_type": "code",
   "execution_count": 34,
   "metadata": {},
   "outputs": [
    {
     "name": "stdout",
     "output_type": "stream",
     "text": [
      "2nd paragraphe class 1\n"
     ]
    }
   ],
   "source": [
    "# le find_all retourne une liste de tous les paragraphes de la classe 1\n",
    "class1_paragraphs = parser.find_all(\"p\", class_=\"class1\")\n",
    "\n",
    "second_class1_paragraph = class1_paragraphs[1]\n",
    "print(second_class1_paragraph.text)"
   ]
  },
  {
   "cell_type": "code",
   "execution_count": 32,
   "metadata": {},
   "outputs": [
    {
     "name": "stdout",
     "output_type": "stream",
     "text": [
      "1er paragraphe class 2\n"
     ]
    }
   ],
   "source": [
    "# le find_all retourne une liste de tous les paragraphes de la classe 2\n",
    "class2_paragraphs = parser.find_all(\"p\", class_=\"class2\")\n",
    "\n",
    "first_class2_paragraph = class2_paragraphs[0]\n",
    "print(first_class2_paragraph.text)"
   ]
  },
  {
   "cell_type": "code",
   "execution_count": 33,
   "metadata": {},
   "outputs": [
    {
     "name": "stdout",
     "output_type": "stream",
     "text": [
      "2nd paragraphe class 2\n"
     ]
    }
   ],
   "source": [
    "second_class2_paragraph = class2_paragraphs[1]\n",
    "print(second_class2_paragraph.text)"
   ]
  },
  {
   "cell_type": "markdown",
   "metadata": {},
   "source": [
    "# Selecteur en CSS"
   ]
  },
  {
   "cell_type": "code",
   "execution_count": 35,
   "metadata": {},
   "outputs": [],
   "source": [
    "#  #first {\n",
    "#         color:red\n",
    "#         }\n",
    "\n",
    "#  .class1 {\n",
    "#         color:red\n",
    "#         }"
   ]
  },
  {
   "cell_type": "code",
   "execution_count": 36,
   "metadata": {},
   "outputs": [],
   "source": [
    "# select"
   ]
  },
  {
   "cell_type": "code",
   "execution_count": 39,
   "metadata": {},
   "outputs": [
    {
     "name": "stdout",
     "output_type": "stream",
     "text": [
      "1er paragraphe classe 1\r\n",
      "      \n"
     ]
    }
   ],
   "source": [
    "# Télécharge le site web\n",
    "response = requests.get(\"https://raw.githubusercontent.com/codelikerod/web-scraping/master/exemple4.html\")\n",
    "content = response.content\n",
    "parser = BeautifulSoup(content, 'html.parser')\n",
    "\n",
    "# Sélectionner tous les éléments de la classe first-item\n",
    "first_items = parser.select(\".first-item\")\n",
    "print(first_items[0].text)"
   ]
  },
  {
   "cell_type": "code",
   "execution_count": 41,
   "metadata": {},
   "outputs": [
    {
     "name": "stdout",
     "output_type": "stream",
     "text": [
      "1er paragraphe class 2\r\n",
      "      \n"
     ]
    }
   ],
   "source": [
    "# Sélectionner tous les éléments du sélecteur .class2 et assigner le premier élément à la variable first_class2_text\n",
    "class2_items = parser.select(\".class2\") #on utilise le '.' pour sélectionner la classe\n",
    "first_class2_text = class2_items[0].text\n",
    "print(first_class2_text)"
   ]
  },
  {
   "cell_type": "code",
   "execution_count": 47,
   "metadata": {},
   "outputs": [
    {
     "name": "stdout",
     "output_type": "stream",
     "text": [
      "1er paragraphe class 2\r\n",
      "      \n"
     ]
    }
   ],
   "source": [
    "# Sélectionner tous les éléments qui possède l'ID second et assigner le premier paragraphe à la variable second_text\n",
    "second_items = parser.select(\"#second\") #on utilise le '#' pour sélectionner l'id\n",
    "second_text = second_items[0].text\n",
    "print(second_text)"
   ]
  },
  {
   "cell_type": "markdown",
   "metadata": {},
   "source": [
    "# Associer des sélecteurs en CSS"
   ]
  },
  {
   "cell_type": "code",
   "execution_count": 48,
   "metadata": {},
   "outputs": [],
   "source": [
    "# div p\n",
    "# div .first-item\n",
    "# body div #first\n",
    "# .first-item #first"
   ]
  },
  {
   "cell_type": "code",
   "execution_count": 49,
   "metadata": {},
   "outputs": [],
   "source": [
    "response = requests.get(\"https://raw.githubusercontent.com/codelikerod/web-scraping/master/psg-vs-chelsea.html\")\n",
    "content = response.content\n",
    "parser = BeautifulSoup(content, 'html.parser')"
   ]
  },
  {
   "cell_type": "code",
   "execution_count": 73,
   "metadata": {},
   "outputs": [
    {
     "name": "stdout",
     "output_type": "stream",
     "text": [
      "24\n"
     ]
    }
   ],
   "source": [
    "# Extraire le nombre de fautes de Chelsea et assigner le résultat à la variable chelsea_offences_count.\n",
    "offences = parser.select(\"#fautes\")[0]\n",
    "chelsea_offences_count = offences.select(\"td\")[1].text\n",
    "print(chelsea_offences_count)"
   ]
  },
  {
   "cell_type": "code",
   "execution_count": 74,
   "metadata": {},
   "outputs": [
    {
     "name": "stdout",
     "output_type": "stream",
     "text": [
      "545\n"
     ]
    }
   ],
   "source": [
    "# Extraire le nombre de passes effectuées par le PSG et assigner le résultat à la variable psg_passes_count.\n",
    "psg_passes_count = parser.select(\"#passes td\")[2].text\n",
    "print(psg_passes_count)"
   ]
  },
  {
   "cell_type": "code",
   "execution_count": 75,
   "metadata": {},
   "outputs": [
    {
     "name": "stdout",
     "output_type": "stream",
     "text": [
      "14\n"
     ]
    }
   ],
   "source": [
    "# Extraire le nombre de tirs effectuées par le Chelsea et assigner le résultat à la variable chelsea_shoots_count.\n",
    "chelsea_shoots_count = parser.select(\"#tirs\")[0].select(\"td\")[1].text\n",
    "print(chelsea_shoots_count)"
   ]
  },
  {
   "cell_type": "code",
   "execution_count": null,
   "metadata": {},
   "outputs": [],
   "source": []
  }
 ],
 "metadata": {
  "kernelspec": {
   "display_name": "Python 3",
   "language": "python",
   "name": "python3"
  },
  "language_info": {
   "codemirror_mode": {
    "name": "ipython",
    "version": 3
   },
   "file_extension": ".py",
   "mimetype": "text/x-python",
   "name": "python",
   "nbconvert_exporter": "python",
   "pygments_lexer": "ipython3",
   "version": "3.7.6"
  }
 },
 "nbformat": 4,
 "nbformat_minor": 4
}
