{
 "cells": [
  {
   "cell_type": "markdown",
   "metadata": {},
   "source": [
    "# Challenge 1 : Site Météo\n",
    "## Exploration de la structure de la page web\n",
    "### Pratique :"
   ]
  },
  {
   "cell_type": "markdown",
   "metadata": {},
   "source": [
    "- Télécharger la page contenant la prévision météo\n",
    "- Utiliser BeautifulSoup pour analyser le code HTML\n",
    "- Trouver l'ID seven-day-forecast et assigner le résultat à la variable seven_day\n",
    "- A l'intérieur de seven_day, sélectionner chaque prévision individuellement\n",
    "- Extraire et afficher le premier élément"
   ]
  },
  {
   "cell_type": "code",
   "execution_count": 132,
   "metadata": {},
   "outputs": [
    {
     "name": "stdout",
     "output_type": "stream",
     "text": [
      "<div class=\"tombstone-container\">\n",
      " <p class=\"period-name\">\n",
      "  Today\n",
      "  <br/>\n",
      "  <br/>\n",
      " </p>\n",
      " <p>\n",
      "  <img alt=\"Today: Sunny, with a high near 61. West wind 7 to 12 mph increasing to 13 to 18 mph in the afternoon. Winds could gust as high as 23 mph. \" class=\"forecast-icon\" src=\"newimages/medium/skc.png\" title=\"Today: Sunny, with a high near 61. West wind 7 to 12 mph increasing to 13 to 18 mph in the afternoon. Winds could gust as high as 23 mph. \"/>\n",
      " </p>\n",
      " <p class=\"short-desc\">\n",
      "  Sunny\n",
      " </p>\n",
      " <p class=\"temp temp-high\">\n",
      "  High: 61 °F\n",
      " </p>\n",
      "</div>\n"
     ]
    }
   ],
   "source": [
    "import requests as req\n",
    "import json\n",
    "from bs4 import BeautifulSoup\n",
    "\n",
    "response = req.get(\"https://forecast.weather.gov/MapClick.php?lat=37.7772&lon=-122.4168#.XoSuR3I69EY\")\n",
    "content = response.content\n",
    "\n",
    "soup = BeautifulSoup(content, 'html.parser')\n",
    "seven_day = soup.find(id=\"seven-day-forecast\")\n",
    "forecast_items = seven_day.find_all(class_=\"tombstone-container\")\n",
    "#forecast_items = parser.select(\"body div #seven-day-forecast li > .tombstone-container\")\n",
    "\n",
    "today = forecast_items[0]\n",
    "print(today.prettify())"
   ]
  },
  {
   "cell_type": "markdown",
   "metadata": {},
   "source": [
    "## Extraire toutes les informations d'un élément\n",
    "### Pratique :"
   ]
  },
  {
   "cell_type": "markdown",
   "metadata": {},
   "source": [
    "- Extraire le nom de l'objet forecast, la courte description et la température\n",
    "- Extraire le titre de l'objet img"
   ]
  },
  {
   "cell_type": "code",
   "execution_count": 113,
   "metadata": {},
   "outputs": [
    {
     "name": "stdout",
     "output_type": "stream",
     "text": [
      "{'day': 'Today', 'description': 'Today: Sunny, with a high near 61. West wind 7 to 12 mph increasing to 13 to 18 mph in the afternoon. Winds could gust as high as 23 mph. ', 'resume': 'Sunny', 'temperature': 'High: 61 °F'}\n"
     ]
    }
   ],
   "source": [
    "previsions = dict()\n",
    "\n",
    "previsions[\"day\"] = today.find(class_=\"period-name\").get_text()\n",
    "previsions[\"description\"] = today.find(\"img\").get(\"title\") #on utilise tag.get('attr') pour obtenir l'attribut d'un tag\n",
    "previsions[\"resume\"] = today.find(class_=\"short-desc\").get_text()\n",
    "previsions[\"temperature\"] = today.find(class_=\"temp\").get_text()\n",
    "\n",
    "print(previsions)"
   ]
  },
  {
   "cell_type": "markdown",
   "metadata": {},
   "source": [
    "## Extraire toutes les informations de la page\n",
    "### Exemple :"
   ]
  },
  {
   "cell_type": "markdown",
   "metadata": {},
   "source": [
    "- Sélectionner tous les objets de la classe period-name à l'intérieur d'un objet de classe tombstone-container dans l'élément seven-day\n",
    "- Utiliser une compréhension de liste puis appeler la méthode get_text() sur chaque objet"
   ]
  },
  {
   "cell_type": "code",
   "execution_count": 170,
   "metadata": {},
   "outputs": [
    {
     "name": "stdout",
     "output_type": "stream",
     "text": [
      "['Today', 'Tonight', 'Thursday', 'ThursdayNight', 'Friday', 'FridayNight', 'Saturday', 'SaturdayNight', 'Sunday']\n"
     ]
    }
   ],
   "source": [
    "period_tags = seven_day.select(\".tombstone-container .period-name\")\n",
    "\n",
    "# On parcourt tous les éléments de period_tags et pour chaque élément on applique la méthode get_text()\n",
    "# On obtient une list\n",
    "\n",
    "periods = [ ptag.get_text() for ptag in period_tags ]\n",
    "\n",
    "print(periods)"
   ]
  },
  {
   "cell_type": "markdown",
   "metadata": {},
   "source": [
    "### Pratique :"
   ]
  },
  {
   "cell_type": "markdown",
   "metadata": {},
   "source": [
    "- Faites de même avec la courte description, les températures et les titres (descriptions)."
   ]
  },
  {
   "cell_type": "code",
   "execution_count": 176,
   "metadata": {},
   "outputs": [
    {
     "name": "stdout",
     "output_type": "stream",
     "text": [
      "['Sunny', 'Clear', 'Sunny', 'Mostly Clear', 'Mostly Sunny', 'Mostly Cloudy', 'ShowersLikely', 'ChanceShowers', 'ShowersLikely']\n",
      "\n",
      "\n",
      "['High: 61 °F', 'Low: 46 °F', 'High: 63 °F', 'Low: 47 °F', 'High: 62 °F', 'Low: 49 °F', 'High: 59 °F', 'Low: 51 °F', 'High: 58 °F']\n",
      "\n",
      "\n",
      "['Today: Sunny, with a high near 61. West wind 7 to 12 mph increasing to 13 to 18 mph in the afternoon. Winds could gust as high as 23 mph. ', 'Tonight: Clear, with a low around 46. North northwest wind 6 to 11 mph. ', 'Thursday: Sunny, with a high near 63. North wind 8 to 15 mph becoming west in the afternoon. Winds could gust as high as 18 mph. ', 'Thursday Night: Mostly clear, with a low around 47. West northwest wind 6 to 14 mph, with gusts as high as 18 mph. ', 'Friday: Mostly sunny, with a high near 62. West northwest wind 8 to 14 mph, with gusts as high as 18 mph. ', 'Friday Night: Mostly cloudy, with a low around 49.', 'Saturday: Showers likely.  Partly sunny, with a high near 59. Chance of precipitation is 60%.', 'Saturday Night: A chance of showers.  Mostly cloudy, with a low around 51.', 'Sunday: Showers likely.  Mostly cloudy, with a high near 58.']\n"
     ]
    }
   ],
   "source": [
    "short_desc = [ sd.get_text() for sd in seven_day.select(\".tombstone-container .short-desc\") ]\n",
    "temps = [ tt.get_text() for tt in seven_day.select(\".tombstone-container .temp\") ]\n",
    "desc = [ it.get('title') for it in seven_day.select(\".tombstone-container img\") ]\n",
    "\n",
    "print(short_desc)\n",
    "print('\\n')\n",
    "\n",
    "print(temps)\n",
    "print('\\n')\n",
    "\n",
    "print(desc)"
   ]
  },
  {
   "cell_type": "markdown",
   "metadata": {},
   "source": [
    "## Afficher les résultats avec Pandas"
   ]
  },
  {
   "cell_type": "code",
   "execution_count": 178,
   "metadata": {},
   "outputs": [],
   "source": [
    "import pandas as pd\n",
    "weather = pd.DataFrame({\n",
    "    \"period\": periods,\n",
    "    \"short_desc\": short_desc,\n",
    "    \"temp\": temps,\n",
    "    \"desc\": desc\n",
    "})"
   ]
  },
  {
   "cell_type": "code",
   "execution_count": 179,
   "metadata": {},
   "outputs": [
    {
     "data": {
      "text/html": [
       "<div>\n",
       "<style scoped>\n",
       "    .dataframe tbody tr th:only-of-type {\n",
       "        vertical-align: middle;\n",
       "    }\n",
       "\n",
       "    .dataframe tbody tr th {\n",
       "        vertical-align: top;\n",
       "    }\n",
       "\n",
       "    .dataframe thead th {\n",
       "        text-align: right;\n",
       "    }\n",
       "</style>\n",
       "<table border=\"1\" class=\"dataframe\">\n",
       "  <thead>\n",
       "    <tr style=\"text-align: right;\">\n",
       "      <th></th>\n",
       "      <th>period</th>\n",
       "      <th>short_desc</th>\n",
       "      <th>temp</th>\n",
       "      <th>desc</th>\n",
       "    </tr>\n",
       "  </thead>\n",
       "  <tbody>\n",
       "    <tr>\n",
       "      <th>0</th>\n",
       "      <td>Today</td>\n",
       "      <td>Sunny</td>\n",
       "      <td>High: 61 °F</td>\n",
       "      <td>Today: Sunny, with a high near 61. West wind 7...</td>\n",
       "    </tr>\n",
       "    <tr>\n",
       "      <th>1</th>\n",
       "      <td>Tonight</td>\n",
       "      <td>Clear</td>\n",
       "      <td>Low: 46 °F</td>\n",
       "      <td>Tonight: Clear, with a low around 46. North no...</td>\n",
       "    </tr>\n",
       "    <tr>\n",
       "      <th>2</th>\n",
       "      <td>Thursday</td>\n",
       "      <td>Sunny</td>\n",
       "      <td>High: 63 °F</td>\n",
       "      <td>Thursday: Sunny, with a high near 63. North wi...</td>\n",
       "    </tr>\n",
       "    <tr>\n",
       "      <th>3</th>\n",
       "      <td>ThursdayNight</td>\n",
       "      <td>Mostly Clear</td>\n",
       "      <td>Low: 47 °F</td>\n",
       "      <td>Thursday Night: Mostly clear, with a low aroun...</td>\n",
       "    </tr>\n",
       "    <tr>\n",
       "      <th>4</th>\n",
       "      <td>Friday</td>\n",
       "      <td>Mostly Sunny</td>\n",
       "      <td>High: 62 °F</td>\n",
       "      <td>Friday: Mostly sunny, with a high near 62. Wes...</td>\n",
       "    </tr>\n",
       "    <tr>\n",
       "      <th>5</th>\n",
       "      <td>FridayNight</td>\n",
       "      <td>Mostly Cloudy</td>\n",
       "      <td>Low: 49 °F</td>\n",
       "      <td>Friday Night: Mostly cloudy, with a low around...</td>\n",
       "    </tr>\n",
       "    <tr>\n",
       "      <th>6</th>\n",
       "      <td>Saturday</td>\n",
       "      <td>ShowersLikely</td>\n",
       "      <td>High: 59 °F</td>\n",
       "      <td>Saturday: Showers likely.  Partly sunny, with ...</td>\n",
       "    </tr>\n",
       "    <tr>\n",
       "      <th>7</th>\n",
       "      <td>SaturdayNight</td>\n",
       "      <td>ChanceShowers</td>\n",
       "      <td>Low: 51 °F</td>\n",
       "      <td>Saturday Night: A chance of showers.  Mostly c...</td>\n",
       "    </tr>\n",
       "    <tr>\n",
       "      <th>8</th>\n",
       "      <td>Sunday</td>\n",
       "      <td>ShowersLikely</td>\n",
       "      <td>High: 58 °F</td>\n",
       "      <td>Sunday: Showers likely.  Mostly cloudy, with a...</td>\n",
       "    </tr>\n",
       "  </tbody>\n",
       "</table>\n",
       "</div>"
      ],
      "text/plain": [
       "          period     short_desc         temp  \\\n",
       "0          Today          Sunny  High: 61 °F   \n",
       "1        Tonight          Clear   Low: 46 °F   \n",
       "2       Thursday          Sunny  High: 63 °F   \n",
       "3  ThursdayNight   Mostly Clear   Low: 47 °F   \n",
       "4         Friday   Mostly Sunny  High: 62 °F   \n",
       "5    FridayNight  Mostly Cloudy   Low: 49 °F   \n",
       "6       Saturday  ShowersLikely  High: 59 °F   \n",
       "7  SaturdayNight  ChanceShowers   Low: 51 °F   \n",
       "8         Sunday  ShowersLikely  High: 58 °F   \n",
       "\n",
       "                                                desc  \n",
       "0  Today: Sunny, with a high near 61. West wind 7...  \n",
       "1  Tonight: Clear, with a low around 46. North no...  \n",
       "2  Thursday: Sunny, with a high near 63. North wi...  \n",
       "3  Thursday Night: Mostly clear, with a low aroun...  \n",
       "4  Friday: Mostly sunny, with a high near 62. Wes...  \n",
       "5  Friday Night: Mostly cloudy, with a low around...  \n",
       "6  Saturday: Showers likely.  Partly sunny, with ...  \n",
       "7  Saturday Night: A chance of showers.  Mostly c...  \n",
       "8  Sunday: Showers likely.  Mostly cloudy, with a...  "
      ]
     },
     "execution_count": 179,
     "metadata": {},
     "output_type": "execute_result"
    }
   ],
   "source": [
    "weather"
   ]
  },
  {
   "cell_type": "code",
   "execution_count": null,
   "metadata": {},
   "outputs": [],
   "source": []
  }
 ],
 "metadata": {
  "kernelspec": {
   "display_name": "Python 3",
   "language": "python",
   "name": "python3"
  },
  "language_info": {
   "codemirror_mode": {
    "name": "ipython",
    "version": 3
   },
   "file_extension": ".py",
   "mimetype": "text/x-python",
   "name": "python",
   "nbconvert_exporter": "python",
   "pygments_lexer": "ipython3",
   "version": "3.7.6"
  }
 },
 "nbformat": 4,
 "nbformat_minor": 4
}
